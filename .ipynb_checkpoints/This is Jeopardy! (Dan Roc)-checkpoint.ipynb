{
 "cells": [
  {
   "cell_type": "markdown",
   "metadata": {},
   "source": [
    "<h1>This is Jeopardy</h1>"
   ]
  },
  {
   "cell_type": "markdown",
   "metadata": {},
   "source": [
    "<h2> Goal</h2>\n",
    "<p>Work with several functions to investigate a dataset of Jeopardy! questions and answers. Filter the dataset for topics that you’re interested in, compute the average difficulty of those questions, and train to become the next Jeopardy champion!.</p>"
   ]
  },
  {
   "cell_type": "markdown",
   "metadata": {},
   "source": [
    "<p>First, we import the libraries random (we will need it later, to extract a random question). We import panda and we use pd.set_option('display.max_colwidth', None) to display the full contents of a column. The, in order to analyze the data we use .read_csv</p>"
   ]
  },
  {
   "cell_type": "code",
   "execution_count": 1,
   "metadata": {},
   "outputs": [],
   "source": [
    "import random\n",
    "import pandas as pd\n",
    "pd.set_option('display.max_colwidth', None)\n",
    "jeopardy_df = pd.read_csv('jeopardy.csv')"
   ]
  },
  {
   "cell_type": "markdown",
   "metadata": {},
   "source": [
    "<p>We use .head() to read the first rows </p>"
   ]
  },
  {
   "cell_type": "code",
   "execution_count": 2,
   "metadata": {},
   "outputs": [
    {
     "name": "stdout",
     "output_type": "stream",
     "text": [
      "   Show Number    Air Date      Round                         Category  Value  \\\n",
      "0         4680  2004-12-31  Jeopardy!                          HISTORY   $200   \n",
      "1         4680  2004-12-31  Jeopardy!  ESPN's TOP 10 ALL-TIME ATHLETES   $200   \n",
      "2         4680  2004-12-31  Jeopardy!      EVERYBODY TALKS ABOUT IT...   $200   \n",
      "3         4680  2004-12-31  Jeopardy!                 THE COMPANY LINE   $200   \n",
      "4         4680  2004-12-31  Jeopardy!              EPITAPHS & TRIBUTES   $200   \n",
      "\n",
      "                                                                                                      Question  \\\n",
      "0             For the last 8 years of his life, Galileo was under house arrest for espousing this man's theory   \n",
      "1  No. 2: 1912 Olympian; football star at Carlisle Indian School; 6 MLB seasons with the Reds, Giants & Braves   \n",
      "2                     The city of Yuma in this state has a record average of 4,055 hours of sunshine each year   \n",
      "3                         In 1963, live on \"The Art Linkletter Show\", this company served its billionth burger   \n",
      "4     Signer of the Dec. of Indep., framer of the Constitution of Mass., second President of the United States   \n",
      "\n",
      "       Answer  \n",
      "0  Copernicus  \n",
      "1  Jim Thorpe  \n",
      "2     Arizona  \n",
      "3  McDonald's  \n",
      "4  John Adams  \n"
     ]
    }
   ],
   "source": [
    "print(jeopardy_df.head())"
   ]
  },
  {
   "cell_type": "markdown",
   "metadata": {},
   "source": [
    "<p> We rename the dataframe columns in order to clean the data, we erased the blank spaces of the columns names. Then we write a function to filter the dataset for questions that contains all of the words in a list of words. For that we need to make the search words match the words in the dataframe, that's why we use the .upper(), to unify both the words that are searched and the words in the dataframe. We use a lambda function for this. </p>"
   ]
  },
  {
   "cell_type": "code",
   "execution_count": 3,
   "metadata": {},
   "outputs": [],
   "source": [
    "jeopardy_df = jeopardy_df.rename(columns = {' Air Date': 'Air_Date', ' Round': 'Round', ' Category': 'Category', ' Value': 'Value', ' Question': 'Question', ' Answer': 'Answer'})\n",
    "def filter_data(data, words):\n",
    "  filter = lambda x: all(word.upper() in x.upper() for word in words)\n",
    "  return data.loc[data['Question'].apply(filter)]"
   ]
  },
  {
   "cell_type": "markdown",
   "metadata": {},
   "source": [
    "<p> We test the function. </p>"
   ]
  },
  {
   "cell_type": "code",
   "execution_count": 4,
   "metadata": {
    "scrolled": true
   },
   "outputs": [
    {
     "name": "stdout",
     "output_type": "stream",
     "text": [
      "        Show Number    Air_Date             Round               Category  \\\n",
      "4953           3003  1997-09-24  Double Jeopardy!           \"PH\"UN WORDS   \n",
      "6337           3517  1999-12-14  Double Jeopardy!                    Y1K   \n",
      "9191           3907  2001-09-04  Double Jeopardy!         WON THE BATTLE   \n",
      "11710          2903  1997-03-26  Double Jeopardy!       BRITISH MONARCHS   \n",
      "13454          4726  2005-03-07         Jeopardy!  A NUMBER FROM 1 TO 10   \n",
      "...             ...         ...               ...                    ...   \n",
      "208295         4621  2004-10-11         Jeopardy!            THE VIKINGS   \n",
      "208742         4863  2005-11-02  Double Jeopardy!         BEFORE & AFTER   \n",
      "213870         5856  2010-02-15  Double Jeopardy!                 URANUS   \n",
      "216021         1881  1992-11-09  Double Jeopardy!         HISTORIC NAMES   \n",
      "216789         5070  2006-09-29  Double Jeopardy!        ANCIENT HISTORY   \n",
      "\n",
      "         Value  \\\n",
      "4953      $200   \n",
      "6337      $800   \n",
      "9191      $800   \n",
      "11710     $600   \n",
      "13454    $1000   \n",
      "...        ...   \n",
      "208295    $600   \n",
      "208742  $3,000   \n",
      "213870   $1600   \n",
      "216021   $1000   \n",
      "216789   $1200   \n",
      "\n",
      "                                                                                                      Question  \\\n",
      "4953                  Both England's King George V & FDR put their stamp of approval on this \"King of Hobbies\"   \n",
      "6337    In retaliation for Viking raids, this \"Unready\" king of England attacks Norse areas of the Isle of Man   \n",
      "9191                  This king of England beat the odds to trounce the French in the 1415 Battle of Agincourt   \n",
      "11710             This Scotsman, the first Stuart king of England, was called \"The Wisest Fool in Christendom\"   \n",
      "13454                                     It's the number that followed the last king of England named William   \n",
      "...                                                                                                        ...   \n",
      "208295      In 1066 this great-great grandson of Rollo made what some call the last Viking invasion of England   \n",
      "208742                    Dutch-born king who ruled England jointly with Mary II & is a tasty New Zealand fish   \n",
      "213870              In 1781 William Herschel discovered Uranus & initially named it after this king of England   \n",
      "216021        His nickname was \"Bertie\", but he used this name & number when he became king of England in 1901   \n",
      "216789      This kingdom of England grew from 2 settlements, one founded around 495 by Cerdic & his son Cynric   \n",
      "\n",
      "                              Answer  \n",
      "4953    Philately (stamp collecting)  \n",
      "6337                        Ethelred  \n",
      "9191                         Henry V  \n",
      "11710                        James I  \n",
      "13454                              4  \n",
      "...                              ...  \n",
      "208295         William the Conqueror  \n",
      "208742      William of Orange roughy  \n",
      "213870                    George III  \n",
      "216021                    Edward VII  \n",
      "216789                        Wessex  \n",
      "\n",
      "[152 rows x 7 columns]\n"
     ]
    }
   ],
   "source": [
    "test = filter_data(jeopardy_df, ['King', 'England'])\n",
    "print(test)"
   ]
  },
  {
   "cell_type": "markdown",
   "metadata": {},
   "source": [
    "<p> We use the .mean() function to calculate the average on the \" Value\" column. But first, with a lambda function we convert the \" Value\" column to floats.</p>"
   ]
  },
  {
   "cell_type": "code",
   "execution_count": 5,
   "metadata": {},
   "outputs": [
    {
     "name": "stdout",
     "output_type": "stream",
     "text": [
      "739.9884755451067\n"
     ]
    }
   ],
   "source": [
    "jeopardy_df[\"Values2\"] = jeopardy_df.Value.apply(lambda x: float(x[1:].replace(',','')) if x != \"None\" else 0)\n",
    "print(jeopardy_df.Values2.mean())"
   ]
  },
  {
   "cell_type": "markdown",
   "metadata": {},
   "source": [
    "<p> We write a function that returns the count of the unique answers to all of the questions in a dataset.</p>"
   ]
  },
  {
   "cell_type": "code",
   "execution_count": 6,
   "metadata": {},
   "outputs": [
    {
     "name": "stdout",
     "output_type": "stream",
     "text": [
      "China              216\n",
      "Australia          215\n",
      "Japan              196\n",
      "Chicago            194\n",
      "France             193\n",
      "                  ... \n",
      "Sciatic nerve        1\n",
      "a blood diamond      1\n",
      "Roebling             1\n",
      "Raincoat             1\n",
      "Sconce               1\n",
      "Name: Answer, Length: 88268, dtype: int64\n"
     ]
    }
   ],
   "source": [
    "def get_values_count(data):\n",
    "  filter = data['Answer'].value_counts()\n",
    "  return filter\n",
    "\n",
    "print(get_values_count(jeopardy_df))"
   ]
  },
  {
   "cell_type": "markdown",
   "metadata": {},
   "source": [
    "<p> We create a function to filter the data by year, this to investigate the ways in which the questions change over time by filtering by date. We create two sums and two new dataframes, one containing the 90s and the other the 2000s millennium (because it is not specified if it is the 2000s or the entire millennium). Then, a loop is made to determine how many times a certain word appears in each data frame (attention is paid to the format of the word, it is unified through the .upper () function), finally the comparison is printed. </p>"
   ]
  },
  {
   "cell_type": "code",
   "execution_count": 7,
   "metadata": {},
   "outputs": [
    {
     "name": "stdout",
     "output_type": "stream",
     "text": [
      "98 questions from the 90s use the word \"Computer\" compared to 326 questions from the 2000s.\n"
     ]
    }
   ],
   "source": [
    "def comparing_words(data, word):\n",
    "    sum1 = 0\n",
    "    sum2 = 0\n",
    "    words_count1 = data.loc[data['Air_Date'].between('1990-01-1', '1999-12-31')]\n",
    "    words_count2 = data.loc[data['Air_Date'].between('2000-01-1', '2999-12-31')]\n",
    "    for row in words_count1['Question'].str.upper():\n",
    "        if word.upper() in row:\n",
    "            sum1 +=1\n",
    "    for row in words_count2['Question'].str.upper():\n",
    "        if word.upper() in row:\n",
    "            sum2 +=1\n",
    "    return '{} questions from the 90s use the word \"{}\" compared to {} questions from the 2000s.'.format(sum1, word.title(), sum2)\n",
    "\n",
    "test2 = comparing_words(jeopardy_df, 'computer')\n",
    "print(test2)\n"
   ]
  },
  {
   "cell_type": "markdown",
   "metadata": {},
   "source": [
    "<p> We create a function to filter the data by category, this to investigate if there is a connection between the round and the category, to find out if it is more likely to find certain categories in Single Jeopardy or Double Jeopardy. </p>"
   ]
  },
  {
   "cell_type": "code",
   "execution_count": 8,
   "metadata": {},
   "outputs": [],
   "source": [
    "def filter_category(data, word):\n",
    "    x = 0\n",
    "    y = 0\n",
    "    for row in data[data['Round'] == 'Jeopardy!']['Category'].str.upper():\n",
    "        if row == word.upper():\n",
    "            x += 1\n",
    "    for row in data[data['Round'] == 'Double Jeopardy!']['Category'].str.upper():\n",
    "        if row == word.upper():\n",
    "            y += 1\n",
    "    if x == y:\n",
    "        return 'The Category appears {} times in both types of rounds'.format(x)\n",
    "    else:\n",
    "        return 'The Category appears {} times in Jeopardy! and {} in Double Jeopardy!'.format(x,y)"
   ]
  },
  {
   "cell_type": "markdown",
   "metadata": {},
   "source": [
    "<p>We test the function using the \"Literature\" category, and found that it is most likely to be found in a Double Jeopardy! round than in a Jeopardy! round.</p>"
   ]
  },
  {
   "cell_type": "code",
   "execution_count": 9,
   "metadata": {},
   "outputs": [
    {
     "name": "stdout",
     "output_type": "stream",
     "text": [
      "The Category appears 105 times in Jeopardy! and 381 in Double Jeopardy!\n"
     ]
    }
   ],
   "source": [
    "test3 = filter_category(jeopardy_df, 'literature')\n",
    "print(test3)"
   ]
  },
  {
   "cell_type": "markdown",
   "metadata": {},
   "source": [
    "<p>Finally, we play. First, we get a random question, then we answer it, and then we see if we were right.</p>"
   ]
  },
  {
   "cell_type": "code",
   "execution_count": 10,
   "metadata": {},
   "outputs": [
    {
     "name": "stdout",
     "output_type": "stream",
     "text": [
      "93210: Jeopardy! for $600, \"The lovely locks of a Lipizzaner\":\n"
     ]
    }
   ],
   "source": [
    "def the_question(data):\n",
    "    x = random.randint(0, 216930)\n",
    "    y = data.iloc[x]['Question']\n",
    "    z = data.iloc[x]['Value']\n",
    "    if data.iloc[x]['Round'] == 'Jeopardy!':\n",
    "        return '{}: Jeopardy! for {}, \"{}\":'.format(x,z,y)\n",
    "    else:\n",
    "        return '{}: Double Jeopardy! for {}, \"{}\":'.format(x,z,y)\n",
    "\n",
    "play = the_question(jeopardy_df)\n",
    "print(play)"
   ]
  },
  {
   "cell_type": "code",
   "execution_count": 11,
   "metadata": {},
   "outputs": [
    {
     "name": "stdout",
     "output_type": "stream",
     "text": [
      "Your answer is: know\n"
     ]
    }
   ],
   "source": [
    "answer = input('Your answer is: ')"
   ]
  },
  {
   "cell_type": "code",
   "execution_count": 12,
   "metadata": {},
   "outputs": [
    {
     "name": "stdout",
     "output_type": "stream",
     "text": [
      "Incorrect!\n"
     ]
    }
   ],
   "source": [
    "answer1 = int(play.split(':')[0])\n",
    "\n",
    "if answer == jeopardy_df.iloc[answer1]['Answer']:\n",
    "    value = jeopardy_df.iloc[answer1]['Value']\n",
    "    print('Correct! You win: {}'.format(value))\n",
    "else:\n",
    "    print('Incorrect!')"
   ]
  }
 ],
 "metadata": {
  "kernelspec": {
   "display_name": "Python 3 (ipykernel)",
   "language": "python",
   "name": "python3"
  },
  "language_info": {
   "codemirror_mode": {
    "name": "ipython",
    "version": 3
   },
   "file_extension": ".py",
   "mimetype": "text/x-python",
   "name": "python",
   "nbconvert_exporter": "python",
   "pygments_lexer": "ipython3",
   "version": "3.9.7"
  }
 },
 "nbformat": 4,
 "nbformat_minor": 4
}
