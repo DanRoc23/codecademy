{
 "cells": [
  {
   "cell_type": "markdown",
   "metadata": {},
   "source": [
    "# U.S. Medical Insurance Costs"
   ]
  },
  {
   "cell_type": "markdown",
   "metadata": {},
   "source": [
    "Viernes 3 de Junio, 2022"
   ]
  },
  {
   "cell_type": "markdown",
   "metadata": {},
   "source": [
    "1. First, import csv to open the **insurances.csv** file.\n",
    "2. Import Counter from collections (to obtain the max/min value of certain variables)\n",
    "3. Import Decimal for fast correctly-rounded decimal floating point arithmetic.\n",
    "4. I stored the csv information on a new list calles **insured**"
   ]
  },
  {
   "cell_type": "code",
   "execution_count": 26,
   "metadata": {},
   "outputs": [],
   "source": [
    "import csv\n",
    "from collections import Counter\n",
    "from decimal import Decimal\n",
    "\n",
    "insured = []\n",
    "\n",
    "with open('insurance.csv', newline='') as insurance_csv:\n",
    "    insurance_reader = csv.DictReader(insurance_csv)\n",
    "    for row in insurance_reader:\n",
    "        insured.append(row)\n",
    "        \n",
    "    "
   ]
  },
  {
   "cell_type": "markdown",
   "metadata": {},
   "source": [
    "I decide to work with Classes, so I stored the information of the insured list in a new class using, then I used this methods to analyze the data:\n",
    "\n",
    "1. **init** to declare the class attributes, in this case they are equivalent to the **insured** list.\n",
    "2. **repr** to represent as str.\n",
    "3. **total_records** to return the total number of insured.\n",
    "4. **insured_id** to return an specific ID insured data.\n",
    "5. **age_mean** to obtain the average age.\n",
    "6. **max_age** to obtain the oldest age.\n",
    "7. **min_age** to obtain the youngest age.\n",
    "8. **smoker_status** to obtain the most common smoker status (smoker or non-smokers)\n",
    "\n"
   ]
  },
  {
   "cell_type": "code",
   "execution_count": 27,
   "metadata": {},
   "outputs": [
    {
     "name": "stdout",
     "output_type": "stream",
     "text": [
      "The total number of insured people is: 1337.\n",
      "The data of this ID is:\n",
      "        Age: 19.\n",
      "        Sex: female.\n",
      "        BMI: 27.9.\n",
      "        Num of Children: 0.\n",
      "        Smoker Status: yes.\n",
      "        Region: southwest.\n",
      "        Charges: 16884.924.\n",
      "The average age of the insured is: 39.\n",
      "The oldest age of the insured is: 64.\n",
      "The youngest age of the insured is: 18.\n",
      "Most of the insured don't smoke. \n",
      "            The total number of non-smokers is: 1064, \n",
      "            while the total number of smokers is: 274.\n",
      "The most common region for insured is: SOUTHEAST. With a total of 364 insured.\n",
      "The least common region for insured is: NORTHEAST. With a total of 324 insured.\n"
     ]
    }
   ],
   "source": [
    "class Insured_People:\n",
    "    def __init__(self):\n",
    "        self.new_insured = insured\n",
    "    def __repr__(self):\n",
    "        return new_insured\n",
    "    def total_records(self):\n",
    "        total_insured = len(self.new_insured)-1\n",
    "        return f\"\"\"The total number of insured people is: {total_insured}.\"\"\"\n",
    "    def insured_id(self, id_number):\n",
    "        id_number = insured[id_number]\n",
    "        self.index = id_number\n",
    "        self.age = self.index[\"age\"]\n",
    "        self.sex = self.index[\"sex\"]\n",
    "        self.bmi = self.index[\"bmi\"]\n",
    "        self.children = self.index [\"children\"]\n",
    "        self.smoker = self.index[\"smoker\"]\n",
    "        self.region = self.index[\"region\"]\n",
    "        self.charges = self.index [\"charges\"]\n",
    "        return f\"\"\"The data of this ID is:\n",
    "        Age: {self.age}.\n",
    "        Sex: {self.sex}.\n",
    "        BMI: {self.bmi}.\n",
    "        Num of Children: {self.children}.\n",
    "        Smoker Status: {self.smoker}.\n",
    "        Region: {self.region}.\n",
    "        Charges: {self.charges}.\"\"\"\n",
    "    def age_mean(self):\n",
    "        age_count = 0\n",
    "        for person in self.new_insured:\n",
    "            age_count += Decimal(person[\"age\"])\n",
    "            mean = round(age_count/len(insured))\n",
    "        return f\"\"\"The average age of the insured is: {mean}.\"\"\" \n",
    "    def max_age(self):\n",
    "        max_age = 0\n",
    "        for person in self.new_insured:\n",
    "            max_key = person[\"age\"]\n",
    "            if int(max_key) > int(max_age):\n",
    "                max_age = max_key\n",
    "        return f\"\"\"The oldest age of the insured is: {max_age}.\"\"\"\n",
    "    def min_age(self):\n",
    "        ages = list()\n",
    "        for person in self.new_insured:\n",
    "            ages.append(person[\"age\"])\n",
    "        min_age = min(ages)\n",
    "        return f\"\"\"The youngest age of the insured is: {min_age}.\"\"\"\n",
    "    def smoke_status(self):\n",
    "        smoke_status = \"\"\n",
    "        smoke_count = 0\n",
    "        nonsmoke_count = 0\n",
    "        for person in self.new_insured:\n",
    "            if person[\"smoker\"] == \"no\":\n",
    "                nonsmoke_count += 1\n",
    "            if person[\"smoker\"] == \"yes\":\n",
    "                smoke_count += 1\n",
    "        if smoke_count > nonsmoke_count:\n",
    "            smoke_status += yes\n",
    "            return f\"\"\"Most of the insured smoke. \n",
    "            The total number of smokers is: {smoke_count}, \n",
    "            while the total number of non-smokers is: {nonsmoke_count}.\"\"\"\n",
    "        else:\n",
    "            return f\"\"\"Most of the insured don't smoke. \n",
    "            The total number of non-smokers is: {nonsmoke_count}, \n",
    "            while the total number of smokers is: {smoke_count}.\"\"\"\n",
    "    def majority_region(self):\n",
    "        insured_zones = dict(Counter(person[\"region\"] for person in self.new_insured if person.get(\"region\")))\n",
    "        major =  max(insured_zones, key=insured_zones.get)\n",
    "        region_count = insured_zones[major]\n",
    "        return f\"The most common region for insured is: {major.upper()}. With a total of {region_count} insured.\"\n",
    "    def minority_region(self):\n",
    "        insured_zones = dict(Counter(person[\"region\"] for person in self.new_insured if person.get(\"region\")))\n",
    "        minor =  min(insured_zones, key=insured_zones.get)\n",
    "        region_count = insured_zones[minor]\n",
    "        return f\"The least common region for insured is: {minor.upper()}. With a total of {region_count} insured.\"\n",
    "\n",
    "\n",
    "insured_people = Insured_People()\n",
    "print(insured_people.total_records())\n",
    "print(insured_people.insured_id(0))\n",
    "print(insured_people.age_mean())\n",
    "print(insured_people.max_age())\n",
    "print(insured_people.min_age())\n",
    "print(insured_people.smoke_status())\n",
    "print(insured_people.majority_region())\n",
    "print(insured_people.minority_region())"
   ]
  }
 ],
 "metadata": {
  "kernelspec": {
   "display_name": "Python 3 (ipykernel)",
   "language": "python",
   "name": "python3"
  },
  "language_info": {
   "codemirror_mode": {
    "name": "ipython",
    "version": 3
   },
   "file_extension": ".py",
   "mimetype": "text/x-python",
   "name": "python",
   "nbconvert_exporter": "python",
   "pygments_lexer": "ipython3",
   "version": "3.9.7"
  }
 },
 "nbformat": 4,
 "nbformat_minor": 4
}
