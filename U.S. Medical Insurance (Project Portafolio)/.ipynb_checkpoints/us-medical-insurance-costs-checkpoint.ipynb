{
 "cells": [
  {
   "cell_type": "markdown",
   "metadata": {},
   "source": [
    "# U.S. Medical Insurance Costs"
   ]
  },
  {
   "cell_type": "markdown",
   "metadata": {},
   "source": [
    "Viernes 3 de Junio, 2022"
   ]
  },
  {
   "cell_type": "markdown",
   "metadata": {},
   "source": [
    "1. First, import csv to open the **insurances.csv** file.\n",
    "2. I stored the csv information on a new list calles **insured**"
   ]
  },
  {
   "cell_type": "code",
   "execution_count": 60,
   "metadata": {},
   "outputs": [
    {
     "name": "stdout",
     "output_type": "stream",
     "text": [
      "{'age': '18', 'sex': 'male', 'bmi': '33.77', 'children': '1', 'smoker': 'no', 'region': 'southeast', 'charges': '1725.5523'}\n"
     ]
    }
   ],
   "source": [
    "import csv\n",
    "import random\n",
    "\n",
    "insured = []\n",
    "\n",
    "with open('insurance.csv', newline='') as insurance_csv:\n",
    "    insurance_reader = csv.DictReader(insurance_csv)\n",
    "    for row in insurance_reader:\n",
    "        insured.append(row)\n",
    "    \n",
    "        \n",
    "print(insured[1])\n",
    "        \n",
    "    "
   ]
  },
  {
   "cell_type": "markdown",
   "metadata": {},
   "source": [
    "I decide to work with Classes, so I stored the information of the insured list in a new class using, then I used this methods to analyze the data:\n",
    "\n",
    "1. **init** to declare the class attributes, in this case they are equivalent to the **insured** list.\n",
    "2. **repr** to represent as str.\n",
    "3. **insured_id** to return a random_number within the range of the insured list, this random_number actually is a random id of an insured person of the list, this will serve if we want to access to an specific insured."
   ]
  },
  {
   "cell_type": "code",
   "execution_count": 69,
   "metadata": {},
   "outputs": [
    {
     "name": "stdout",
     "output_type": "stream",
     "text": [
      "18\n",
      "{'age': '28', 'sex': 'male', 'bmi': '33', 'children': '3', 'smoker': 'no', 'region': 'southeast', 'charges': '4449.462'}\n",
      "1283\n",
      "{'age': '61', 'sex': 'female', 'bmi': '29.07', 'children': '0', 'smoker': 'yes', 'region': 'northwest', 'charges': '29141.3603'}\n",
      "1338\n"
     ]
    }
   ],
   "source": [
    "class Insured_People:\n",
    "    def __init__(self):\n",
    "        self.new_insured = insured\n",
    "    def __repr__(self):\n",
    "        return new_insured\n",
    "    def insured_id(self):\n",
    "        new_insured = self.new_insured\n",
    "        insured_indexes = list(range(len(new_insured)-1))\n",
    "        random_number =random.choice(insured_indexes)\n",
    "        return random_number\n",
    "    def new_id(self):\n",
    "        return len(insured)\n",
    "    \n",
    "    \n",
    "insured_people = Insured_People()\n",
    "print(insured_people.new_insured[1][\"age\"])\n",
    "print(insured_people.new_insured[2])\n",
    "print(insured_people.insured_id())\n",
    "print(insured_people.new_insured[1337])\n",
    "print(insured_people.new_id())\n"
   ]
  },
  {
   "cell_type": "code",
   "execution_count": null,
   "metadata": {},
   "outputs": [],
   "source": []
  },
  {
   "cell_type": "code",
   "execution_count": null,
   "metadata": {},
   "outputs": [],
   "source": []
  }
 ],
 "metadata": {
  "kernelspec": {
   "display_name": "Python 3 (ipykernel)",
   "language": "python",
   "name": "python3"
  },
  "language_info": {
   "codemirror_mode": {
    "name": "ipython",
    "version": 3
   },
   "file_extension": ".py",
   "mimetype": "text/x-python",
   "name": "python",
   "nbconvert_exporter": "python",
   "pygments_lexer": "ipython3",
   "version": "3.9.7"
  }
 },
 "nbformat": 4,
 "nbformat_minor": 4
}
